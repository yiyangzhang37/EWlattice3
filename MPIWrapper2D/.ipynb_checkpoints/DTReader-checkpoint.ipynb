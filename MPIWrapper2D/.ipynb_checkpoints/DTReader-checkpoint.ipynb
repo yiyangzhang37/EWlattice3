{
 "cells": [
  {
   "cell_type": "code",
   "execution_count": 9,
   "metadata": {
    "ExecuteTime": {
     "end_time": "2018-05-21T18:31:21.522697Z",
     "start_time": "2018-05-21T18:31:21.518874Z"
    },
    "deletable": false,
    "editable": false
   },
   "outputs": [],
   "source": [
    "import numpy as np\n",
    "import pandas as pd\n",
    "import matplotlib.pyplot as plt"
   ]
  },
  {
   "cell_type": "code",
   "execution_count": 12,
   "metadata": {
    "ExecuteTime": {
     "end_time": "2018-05-21T18:31:59.932996Z",
     "start_time": "2018-05-21T18:31:59.926130Z"
    }
   },
   "outputs": [],
   "source": [
    "df_baseline = pd.read_csv('./compare_data/one_bubble/one.3.txt')\n",
    "df_mpi1 = pd.read_csv('./compare_data/one_bubble/one_bubble_dtable_mpi1.txt')\n",
    "df_mpi4 = pd.read_csv('./compare_data/one_bubble/one_bubble_dtable_mpi4.txt')\n",
    "df_mpi8 = pd.read_csv('./compare_data/one_bubble/one_bubble_dtable_mpi8.txt')"
   ]
  },
  {
   "cell_type": "code",
   "execution_count": 7,
   "metadata": {
    "ExecuteTime": {
     "end_time": "2018-05-21T18:07:16.893920Z",
     "start_time": "2018-05-21T18:07:16.738912Z"
    }
   },
   "outputs": [
    {
     "data": {
      "image/png": "[encoded data removed]",
      "text/plain": [
       "<matplotlib.figure.Figure at 0x1160195f8>"
      ]
     },
     "metadata": {},
     "output_type": "display_data"
    }
   ],
   "source": [
    "plt.plot(df_baseline['energy'])\n",
    "plt.plot(df_mpi1['TotalEnergy'])\n",
    "plt.plot(df_mpi4['TotalEnergy'])\n",
    "plt.plot(df_mpi8['TotalEnergy'])\n",
    "plt.show()"
   ]
  },
  {
   "cell_type": "code",
   "execution_count": 11,
   "metadata": {
    "ExecuteTime": {
     "end_time": "2018-05-21T18:31:24.774455Z",
     "start_time": "2018-05-21T18:31:24.757739Z"
    }
   },
   "outputs": [
    {
     "data": {
      "text/html": [
       "<div>\n",
       "<style scoped>\n",
       "    .dataframe tbody tr th:only-of-type {\n",
       "        vertical-align: middle;\n",
       "    }\n",
       "\n",
       "    .dataframe tbody tr th {\n",
       "        vertical-align: top;\n",
       "    }\n",
       "\n",
       "    .dataframe thead th {\n",
       "        text-align: right;\n",
       "    }\n",
       "</style>\n",
       "<table border=\"1\" class=\"dataframe\">\n",
       "  <thead>\n",
       "    <tr style=\"text-align: right;\">\n",
       "      <th></th>\n",
       "      <th>TotalEnergy</th>\n",
       "      <th>MagneticEnergy</th>\n",
       "      <th>HiggsMagnitude2</th>\n",
       "      <th>MinHiggsMagnitude2</th>\n",
       "      <th>E_Kinetic</th>\n",
       "      <th>E_Grad</th>\n",
       "      <th>E_Pot</th>\n",
       "      <th>E_U1</th>\n",
       "      <th>E_SU2</th>\n",
       "      <th>NewBubbleCount</th>\n",
       "      <th>Unnamed: 10</th>\n",
       "    </tr>\n",
       "  </thead>\n",
       "  <tbody>\n",
       "    <tr>\n",
       "      <th>0</th>\n",
       "      <td>85598.2</td>\n",
       "      <td>0.000000e+00</td>\n",
       "      <td>0.000000</td>\n",
       "      <td>0</td>\n",
       "      <td>0.00000</td>\n",
       "      <td>0.0000</td>\n",
       "      <td>85598.2</td>\n",
       "      <td>0</td>\n",
       "      <td>0</td>\n",
       "      <td>0</td>\n",
       "      <td>NaN</td>\n",
       "    </tr>\n",
       "    <tr>\n",
       "      <th>1</th>\n",
       "      <td>85604.2</td>\n",
       "      <td>2.713940e-36</td>\n",
       "      <td>0.010550</td>\n",
       "      <td>0</td>\n",
       "      <td>1.39787</td>\n",
       "      <td>49.7474</td>\n",
       "      <td>85553.1</td>\n",
       "      <td>0</td>\n",
       "      <td>0</td>\n",
       "      <td>0</td>\n",
       "      <td>NaN</td>\n",
       "    </tr>\n",
       "    <tr>\n",
       "      <th>2</th>\n",
       "      <td>85603.5</td>\n",
       "      <td>6.417300e-36</td>\n",
       "      <td>0.010445</td>\n",
       "      <td>0</td>\n",
       "      <td>9.96000</td>\n",
       "      <td>41.4552</td>\n",
       "      <td>85552.1</td>\n",
       "      <td>0</td>\n",
       "      <td>0</td>\n",
       "      <td>0</td>\n",
       "      <td>NaN</td>\n",
       "    </tr>\n",
       "    <tr>\n",
       "      <th>3</th>\n",
       "      <td>85603.3</td>\n",
       "      <td>2.904220e-36</td>\n",
       "      <td>0.010519</td>\n",
       "      <td>0</td>\n",
       "      <td>18.32150</td>\n",
       "      <td>34.3278</td>\n",
       "      <td>85550.6</td>\n",
       "      <td>0</td>\n",
       "      <td>0</td>\n",
       "      <td>0</td>\n",
       "      <td>NaN</td>\n",
       "    </tr>\n",
       "  </tbody>\n",
       "</table>\n",
       "</div>"
      ],
      "text/plain": [
       "   TotalEnergy  MagneticEnergy  HiggsMagnitude2  MinHiggsMagnitude2  \\\n",
       "0      85598.2    0.000000e+00         0.000000                   0   \n",
       "1      85604.2    2.713940e-36         0.010550                   0   \n",
       "2      85603.5    6.417300e-36         0.010445                   0   \n",
       "3      85603.3    2.904220e-36         0.010519                   0   \n",
       "\n",
       "   E_Kinetic   E_Grad    E_Pot  E_U1  E_SU2  NewBubbleCount  Unnamed: 10  \n",
       "0    0.00000   0.0000  85598.2     0      0               0          NaN  \n",
       "1    1.39787  49.7474  85553.1     0      0               0          NaN  \n",
       "2    9.96000  41.4552  85552.1     0      0               0          NaN  \n",
       "3   18.32150  34.3278  85550.6     0      0               0          NaN  "
      ]
     },
     "execution_count": 11,
     "metadata": {},
     "output_type": "execute_result"
    }
   ],
   "source": [
    "df"
   ]
  },
  {
   "cell_type": "code",
   "execution_count": 13,
   "metadata": {
    "ExecuteTime": {
     "end_time": "2018-05-21T18:32:05.295451Z",
     "start_time": "2018-05-21T18:32:05.279358Z"
    }
   },
   "outputs": [
    {
     "data": {
      "text/html": [
       "<div>\n",
       "<style scoped>\n",
       "    .dataframe tbody tr th:only-of-type {\n",
       "        vertical-align: middle;\n",
       "    }\n",
       "\n",
       "    .dataframe tbody tr th {\n",
       "        vertical-align: top;\n",
       "    }\n",
       "\n",
       "    .dataframe thead th {\n",
       "        text-align: right;\n",
       "    }\n",
       "</style>\n",
       "<table border=\"1\" class=\"dataframe\">\n",
       "  <thead>\n",
       "    <tr style=\"text-align: right;\">\n",
       "      <th></th>\n",
       "      <th>TotalEnergy</th>\n",
       "      <th>MagneticEnergy</th>\n",
       "      <th>HiggsMagnitude2</th>\n",
       "      <th>MinHiggsMagnitude2</th>\n",
       "      <th>E_Kinetic</th>\n",
       "      <th>E_Grad</th>\n",
       "      <th>E_Pot</th>\n",
       "      <th>E_U1</th>\n",
       "      <th>E_SU2</th>\n",
       "      <th>NewBubbleCount</th>\n",
       "      <th>Unnamed: 10</th>\n",
       "    </tr>\n",
       "  </thead>\n",
       "  <tbody>\n",
       "    <tr>\n",
       "      <th>0</th>\n",
       "      <td>85598.2</td>\n",
       "      <td>0.000000e+00</td>\n",
       "      <td>0.000000</td>\n",
       "      <td>0</td>\n",
       "      <td>0.00000</td>\n",
       "      <td>0.0000</td>\n",
       "      <td>85598.2</td>\n",
       "      <td>0</td>\n",
       "      <td>0</td>\n",
       "      <td>0</td>\n",
       "      <td>NaN</td>\n",
       "    </tr>\n",
       "    <tr>\n",
       "      <th>1</th>\n",
       "      <td>85604.2</td>\n",
       "      <td>4.710660e-34</td>\n",
       "      <td>0.010550</td>\n",
       "      <td>0</td>\n",
       "      <td>1.39787</td>\n",
       "      <td>49.7474</td>\n",
       "      <td>85553.1</td>\n",
       "      <td>0</td>\n",
       "      <td>0</td>\n",
       "      <td>0</td>\n",
       "      <td>NaN</td>\n",
       "    </tr>\n",
       "    <tr>\n",
       "      <th>2</th>\n",
       "      <td>85603.5</td>\n",
       "      <td>2.968040e-34</td>\n",
       "      <td>0.010445</td>\n",
       "      <td>0</td>\n",
       "      <td>9.96000</td>\n",
       "      <td>41.4552</td>\n",
       "      <td>85552.1</td>\n",
       "      <td>0</td>\n",
       "      <td>0</td>\n",
       "      <td>0</td>\n",
       "      <td>NaN</td>\n",
       "    </tr>\n",
       "    <tr>\n",
       "      <th>3</th>\n",
       "      <td>85603.3</td>\n",
       "      <td>1.747770e-34</td>\n",
       "      <td>0.010519</td>\n",
       "      <td>0</td>\n",
       "      <td>18.32150</td>\n",
       "      <td>34.3278</td>\n",
       "      <td>85550.6</td>\n",
       "      <td>0</td>\n",
       "      <td>0</td>\n",
       "      <td>0</td>\n",
       "      <td>NaN</td>\n",
       "    </tr>\n",
       "  </tbody>\n",
       "</table>\n",
       "</div>"
      ],
      "text/plain": [
       "   TotalEnergy  MagneticEnergy  HiggsMagnitude2  MinHiggsMagnitude2  \\\n",
       "0      85598.2    0.000000e+00         0.000000                   0   \n",
       "1      85604.2    4.710660e-34         0.010550                   0   \n",
       "2      85603.5    2.968040e-34         0.010445                   0   \n",
       "3      85603.3    1.747770e-34         0.010519                   0   \n",
       "\n",
       "   E_Kinetic   E_Grad    E_Pot  E_U1  E_SU2  NewBubbleCount  Unnamed: 10  \n",
       "0    0.00000   0.0000  85598.2     0      0               0          NaN  \n",
       "1    1.39787  49.7474  85553.1     0      0               0          NaN  \n",
       "2    9.96000  41.4552  85552.1     0      0               0          NaN  \n",
       "3   18.32150  34.3278  85550.6     0      0               0          NaN  "
      ]
     },
     "execution_count": 13,
     "metadata": {},
     "output_type": "execute_result"
    }
   ],
   "source": [
    "df"
   ]
  },
  {
   "cell_type": "code",
   "execution_count": null,
   "metadata": {},
   "outputs": [],
   "source": []
  }
 ],
 "metadata": {
  "kernelspec": {
   "display_name": "Python 3",
   "language": "python",
   "name": "python3"
  },
  "language_info": {
   "codemirror_mode": {
    "name": "ipython",
    "version": 3
   },
   "file_extension": ".py",
   "mimetype": "text/x-python",
   "name": "python",
   "nbconvert_exporter": "python",
   "pygments_lexer": "ipython3",
   "version": "3.6.3"
  }
 },
 "nbformat": 4,
 "nbformat_minor": 2
}
