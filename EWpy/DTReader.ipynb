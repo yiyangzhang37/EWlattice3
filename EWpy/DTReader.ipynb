{
 "cells": [
  {
   "cell_type": "code",
   "execution_count": 9,
   "metadata": {
    "ExecuteTime": {
     "end_time": "2018-05-21T18:31:21.522697Z",
     "start_time": "2018-05-21T18:31:21.518874Z"
    },
    "deletable": false,
    "editable": false
   },
   "outputs": [],
   "source": [
    "import numpy as np\n",
    "import pandas as pd\n",
    "import matplotlib.pyplot as plt"
   ]
  },
  {
   "cell_type": "code",
   "execution_count": 21,
   "metadata": {
    "ExecuteTime": {
     "end_time": "2018-05-21T19:07:42.507607Z",
     "start_time": "2018-05-21T19:07:42.485272Z"
    },
    "deletable": false,
    "editable": false,
    "run_control": {
     "frozen": true
    }
   },
   "outputs": [],
   "source": [
    "df_baseline = pd.read_csv('./compare_data/one_bubble/one.3.txt')\n",
    "df_mpi1 = pd.read_csv('./compare_data/one_bubble/one_bubble_dtable_mpi1.txt')\n",
    "df_mpi4 = pd.read_csv('./compare_data/one_bubble/one_bubble_dtable_mpi4.txt')\n",
    "df_mpi8 = pd.read_csv('./compare_data/one_bubble/one_bubble_dtable_mpi8.txt')"
   ]
  },
  {
   "cell_type": "code",
   "execution_count": 24,
   "metadata": {
    "ExecuteTime": {
     "end_time": "2018-05-21T19:08:13.051912Z",
     "start_time": "2018-05-21T19:08:12.884604Z"
    },
    "deletable": false,
    "editable": false,
    "run_control": {
     "frozen": true
    }
   },
   "outputs": [
    {
     "data": {
      "image/png": "[encoded data removed]",
      "text/plain": [
       "<matplotlib.figure.Figure at 0x116652d68>"
      ]
     },
     "metadata": {},
     "output_type": "display_data"
    }
   ],
   "source": [
    "plt.plot(df_baseline['energy'], label = 'baseline')\n",
    "plt.plot(df_mpi1['TotalEnergy'], label = 'mpi1')\n",
    "plt.plot(df_mpi4['TotalEnergy'], label = 'mpi4')\n",
    "plt.plot(df_mpi8['TotalEnergy'], label = 'mpi8')\n",
    "plt.legend()\n",
    "plt.show()"
   ]
  },
  {
   "cell_type": "code",
   "execution_count": null,
   "metadata": {
    "ExecuteTime": {
     "end_time": "2018-05-21T18:48:41.161918Z",
     "start_time": "2018-05-21T18:48:41.154868Z"
    }
   },
   "outputs": [],
   "source": []
  },
  {
   "cell_type": "code",
   "execution_count": null,
   "metadata": {
    "ExecuteTime": {
     "end_time": "2018-05-21T19:08:29.359284Z",
     "start_time": "2018-05-21T19:08:29.333428Z"
    }
   },
   "outputs": [],
   "source": []
  },
  {
   "cell_type": "code",
   "execution_count": null,
   "metadata": {
    "ExecuteTime": {
     "end_time": "2018-05-21T19:08:39.375139Z",
     "start_time": "2018-05-21T19:08:39.359512Z"
    }
   },
   "outputs": [],
   "source": []
  },
  {
   "cell_type": "code",
   "execution_count": null,
   "metadata": {},
   "outputs": [],
   "source": []
  }
 ],
 "metadata": {
  "kernelspec": {
   "display_name": "Python 3",
   "language": "python",
   "name": "python3"
  },
  "language_info": {
   "codemirror_mode": {
    "name": "ipython",
    "version": 3
   },
   "file_extension": ".py",
   "mimetype": "text/x-python",
   "name": "python",
   "nbconvert_exporter": "python",
   "pygments_lexer": "ipython3",
   "version": "3.6.3"
  }
 },
 "nbformat": 4,
 "nbformat_minor": 2
}
