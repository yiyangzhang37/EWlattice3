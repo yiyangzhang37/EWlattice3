{
 "cells": [
  {
   "cell_type": "code",
   "execution_count": 1,
   "metadata": {
    "ExecuteTime": {
     "end_time": "2018-05-23T21:48:04.587753Z",
     "start_time": "2018-05-23T21:48:04.080229Z"
    },
    "deletable": false,
    "editable": false
   },
   "outputs": [],
   "source": [
    "import numpy as np\n",
    "import pandas as pd\n",
    "import matplotlib.pyplot as plt\n",
    "import os"
   ]
  },
  {
   "cell_type": "code",
   "execution_count": 15,
   "metadata": {
    "ExecuteTime": {
     "end_time": "2018-05-23T23:56:33.002856Z",
     "start_time": "2018-05-23T23:56:32.768932Z"
    }
   },
   "outputs": [
    {
     "data": {
      "image/png": "[encoded data removed]",
      "text/plain": [
       "<matplotlib.figure.Figure at 0x237ee02cbe0>"
      ]
     },
     "metadata": {},
     "output_type": "display_data"
    }
   ],
   "source": [
    "path = 'D:/Bubble_Thermal/EWlattice3_data'\n",
    "df = pd.read_csv(os.path.join(path, 'data_collect128', 'raw_data_test', 'random_nucl_dtable.txt'))\n",
    "plt.plot(df['TotalEnergy'], label = 'Total')\n",
    "plt.plot(df['E_Grad'], label = 'E_Grad')\n",
    "plt.plot(df['E_Pot'], label = 'E_Pot')\n",
    "plt.plot(df['E_Kinetic'], label = 'E_Kinetic')\n",
    "plt.plot(df['E_U1'], label = 'E_U1')\n",
    "plt.plot(df['E_SU2'], label = 'E_SU2')\n",
    "plt.plot(df['MagneticEnergy'], label = 'Magnetic', linestyle = '--')\n",
    "plt.legend()\n",
    "plt.yscale('log')\n",
    "plt.show()"
   ]
  },
  {
   "cell_type": "code",
   "execution_count": 29,
   "metadata": {
    "ExecuteTime": {
     "end_time": "2018-05-24T00:11:28.115647Z",
     "start_time": "2018-05-24T00:11:28.100662Z"
    }
   },
   "outputs": [
    {
     "data": {
      "text/html": [
       "<div>\n",
       "<style scoped>\n",
       "    .dataframe tbody tr th:only-of-type {\n",
       "        vertical-align: middle;\n",
       "    }\n",
       "\n",
       "    .dataframe tbody tr th {\n",
       "        vertical-align: top;\n",
       "    }\n",
       "\n",
       "    .dataframe thead th {\n",
       "        text-align: right;\n",
       "    }\n",
       "</style>\n",
       "<table border=\"1\" class=\"dataframe\">\n",
       "  <thead>\n",
       "    <tr style=\"text-align: right;\">\n",
       "      <th></th>\n",
       "      <th>TotalEnergy</th>\n",
       "      <th>MagneticEnergy</th>\n",
       "      <th>HiggsMagnitude2</th>\n",
       "      <th>MinHiggsMagnitude2</th>\n",
       "      <th>E_Kinetic</th>\n",
       "      <th>E_Grad</th>\n",
       "      <th>E_Pot</th>\n",
       "      <th>E_U1</th>\n",
       "      <th>E_SU2</th>\n",
       "      <th>NewBubbleCount</th>\n",
       "      <th>Unnamed: 10</th>\n",
       "    </tr>\n",
       "  </thead>\n",
       "  <tbody>\n",
       "    <tr>\n",
       "      <th>0</th>\n",
       "      <td>5478290.0</td>\n",
       "      <td>0.000000</td>\n",
       "      <td>0.000000</td>\n",
       "      <td>0.0</td>\n",
       "      <td>0.000</td>\n",
       "      <td>0.0</td>\n",
       "      <td>5478290.0</td>\n",
       "      <td>0.000000e+00</td>\n",
       "      <td>0.000000</td>\n",
       "      <td>0</td>\n",
       "      <td>NaN</td>\n",
       "    </tr>\n",
       "    <tr>\n",
       "      <th>1</th>\n",
       "      <td>5481210.0</td>\n",
       "      <td>0.000071</td>\n",
       "      <td>0.079952</td>\n",
       "      <td>0.0</td>\n",
       "      <td>677.952</td>\n",
       "      <td>24127.4</td>\n",
       "      <td>5456400.0</td>\n",
       "      <td>5.345630e-07</td>\n",
       "      <td>0.000005</td>\n",
       "      <td>485</td>\n",
       "      <td>NaN</td>\n",
       "    </tr>\n",
       "    <tr>\n",
       "      <th>2</th>\n",
       "      <td>5481420.0</td>\n",
       "      <td>0.000092</td>\n",
       "      <td>0.094652</td>\n",
       "      <td>0.0</td>\n",
       "      <td>4951.810</td>\n",
       "      <td>24782.4</td>\n",
       "      <td>5451690.0</td>\n",
       "      <td>2.807930e-06</td>\n",
       "      <td>0.000028</td>\n",
       "      <td>94</td>\n",
       "      <td>NaN</td>\n",
       "    </tr>\n",
       "    <tr>\n",
       "      <th>3</th>\n",
       "      <td>5481510.0</td>\n",
       "      <td>0.000122</td>\n",
       "      <td>0.103294</td>\n",
       "      <td>0.0</td>\n",
       "      <td>9843.840</td>\n",
       "      <td>23035.5</td>\n",
       "      <td>5448630.0</td>\n",
       "      <td>8.601230e-06</td>\n",
       "      <td>0.000088</td>\n",
       "      <td>50</td>\n",
       "      <td>NaN</td>\n",
       "    </tr>\n",
       "    <tr>\n",
       "      <th>4</th>\n",
       "      <td>5481650.0</td>\n",
       "      <td>0.000259</td>\n",
       "      <td>0.110390</td>\n",
       "      <td>0.0</td>\n",
       "      <td>13040.000</td>\n",
       "      <td>22441.7</td>\n",
       "      <td>5446170.0</td>\n",
       "      <td>2.334830e-05</td>\n",
       "      <td>0.000242</td>\n",
       "      <td>19</td>\n",
       "      <td>NaN</td>\n",
       "    </tr>\n",
       "  </tbody>\n",
       "</table>\n",
       "</div>"
      ],
      "text/plain": [
       "   TotalEnergy  MagneticEnergy  HiggsMagnitude2  MinHiggsMagnitude2  \\\n",
       "0    5478290.0        0.000000         0.000000                 0.0   \n",
       "1    5481210.0        0.000071         0.079952                 0.0   \n",
       "2    5481420.0        0.000092         0.094652                 0.0   \n",
       "3    5481510.0        0.000122         0.103294                 0.0   \n",
       "4    5481650.0        0.000259         0.110390                 0.0   \n",
       "\n",
       "   E_Kinetic   E_Grad      E_Pot          E_U1     E_SU2  NewBubbleCount  \\\n",
       "0      0.000      0.0  5478290.0  0.000000e+00  0.000000               0   \n",
       "1    677.952  24127.4  5456400.0  5.345630e-07  0.000005             485   \n",
       "2   4951.810  24782.4  5451690.0  2.807930e-06  0.000028              94   \n",
       "3   9843.840  23035.5  5448630.0  8.601230e-06  0.000088              50   \n",
       "4  13040.000  22441.7  5446170.0  2.334830e-05  0.000242              19   \n",
       "\n",
       "   Unnamed: 10  \n",
       "0          NaN  \n",
       "1          NaN  \n",
       "2          NaN  \n",
       "3          NaN  \n",
       "4          NaN  "
      ]
     },
     "execution_count": 29,
     "metadata": {},
     "output_type": "execute_result"
    }
   ],
   "source": [
    "df.head()"
   ]
  },
  {
   "cell_type": "code",
   "execution_count": 27,
   "metadata": {
    "ExecuteTime": {
     "end_time": "2018-05-24T00:11:07.864917Z",
     "start_time": "2018-05-24T00:11:07.843954Z"
    }
   },
   "outputs": [
    {
     "data": {
      "text/html": [
       "<div>\n",
       "<style scoped>\n",
       "    .dataframe tbody tr th:only-of-type {\n",
       "        vertical-align: middle;\n",
       "    }\n",
       "\n",
       "    .dataframe tbody tr th {\n",
       "        vertical-align: top;\n",
       "    }\n",
       "\n",
       "    .dataframe thead th {\n",
       "        text-align: right;\n",
       "    }\n",
       "</style>\n",
       "<table border=\"1\" class=\"dataframe\">\n",
       "  <thead>\n",
       "    <tr style=\"text-align: right;\">\n",
       "      <th></th>\n",
       "      <th>energy</th>\n",
       "      <th>CS_number</th>\n",
       "      <th>helicity</th>\n",
       "      <th>EM_energy</th>\n",
       "      <th>EM_electricEnergy</th>\n",
       "      <th>W_Higgs</th>\n",
       "      <th>Higgs_mag2</th>\n",
       "      <th>Hamiltonian_GC</th>\n",
       "      <th>minHiggs2</th>\n",
       "      <th>new_bubble</th>\n",
       "      <th>E_kinetic</th>\n",
       "      <th>E_grad</th>\n",
       "      <th>E_pot</th>\n",
       "      <th>E_U1</th>\n",
       "      <th>E_SU2</th>\n",
       "      <th>Unnamed: 15</th>\n",
       "    </tr>\n",
       "  </thead>\n",
       "  <tbody>\n",
       "    <tr>\n",
       "      <th>0</th>\n",
       "      <td>5478290.0</td>\n",
       "      <td>0.000000e+00</td>\n",
       "      <td>0.000000e+00</td>\n",
       "      <td>0.000000</td>\n",
       "      <td>0.000000</td>\n",
       "      <td>0.000000e+00</td>\n",
       "      <td>0.000000</td>\n",
       "      <td>0.000000e+00</td>\n",
       "      <td>0.0</td>\n",
       "      <td>495</td>\n",
       "      <td>0.000</td>\n",
       "      <td>0.0</td>\n",
       "      <td>5478290.0</td>\n",
       "      <td>0.000000e+00</td>\n",
       "      <td>0.000000</td>\n",
       "      <td>NaN</td>\n",
       "    </tr>\n",
       "    <tr>\n",
       "      <th>1</th>\n",
       "      <td>5481270.0</td>\n",
       "      <td>0.000000e+00</td>\n",
       "      <td>0.000000e+00</td>\n",
       "      <td>0.000042</td>\n",
       "      <td>0.000116</td>\n",
       "      <td>-1.869910e-19</td>\n",
       "      <td>0.081601</td>\n",
       "      <td>2.947740e-28</td>\n",
       "      <td>0.0</td>\n",
       "      <td>85</td>\n",
       "      <td>691.938</td>\n",
       "      <td>24624.9</td>\n",
       "      <td>5455950.0</td>\n",
       "      <td>2.298730e-07</td>\n",
       "      <td>0.000004</td>\n",
       "      <td>NaN</td>\n",
       "    </tr>\n",
       "    <tr>\n",
       "      <th>2</th>\n",
       "      <td>5481420.0</td>\n",
       "      <td>-1.692860e-28</td>\n",
       "      <td>5.855070e-25</td>\n",
       "      <td>0.000056</td>\n",
       "      <td>0.000480</td>\n",
       "      <td>1.503900e-17</td>\n",
       "      <td>0.094801</td>\n",
       "      <td>1.248110e-04</td>\n",
       "      <td>0.0</td>\n",
       "      <td>35</td>\n",
       "      <td>5038.640</td>\n",
       "      <td>24749.0</td>\n",
       "      <td>5451630.0</td>\n",
       "      <td>1.293880e-06</td>\n",
       "      <td>0.000019</td>\n",
       "      <td>NaN</td>\n",
       "    </tr>\n",
       "    <tr>\n",
       "      <th>3</th>\n",
       "      <td>5481420.0</td>\n",
       "      <td>-2.753940e-14</td>\n",
       "      <td>-9.546790e-11</td>\n",
       "      <td>0.000079</td>\n",
       "      <td>0.001074</td>\n",
       "      <td>-5.379970e-13</td>\n",
       "      <td>0.100996</td>\n",
       "      <td>3.414150e-04</td>\n",
       "      <td>0.0</td>\n",
       "      <td>15</td>\n",
       "      <td>9915.580</td>\n",
       "      <td>22259.4</td>\n",
       "      <td>5449240.0</td>\n",
       "      <td>4.360520e-06</td>\n",
       "      <td>0.000062</td>\n",
       "      <td>NaN</td>\n",
       "    </tr>\n",
       "    <tr>\n",
       "      <th>4</th>\n",
       "      <td>5481560.0</td>\n",
       "      <td>-2.881560e-13</td>\n",
       "      <td>-5.468510e-11</td>\n",
       "      <td>0.000176</td>\n",
       "      <td>0.002269</td>\n",
       "      <td>3.260850e-03</td>\n",
       "      <td>0.107528</td>\n",
       "      <td>4.646540e-04</td>\n",
       "      <td>0.0</td>\n",
       "      <td>7</td>\n",
       "      <td>12943.700</td>\n",
       "      <td>21646.1</td>\n",
       "      <td>5446970.0</td>\n",
       "      <td>1.306660e-05</td>\n",
       "      <td>0.000180</td>\n",
       "      <td>NaN</td>\n",
       "    </tr>\n",
       "  </tbody>\n",
       "</table>\n",
       "</div>"
      ],
      "text/plain": [
       "      energy     CS_number      helicity  EM_energy  EM_electricEnergy  \\\n",
       "0  5478290.0  0.000000e+00  0.000000e+00   0.000000           0.000000   \n",
       "1  5481270.0  0.000000e+00  0.000000e+00   0.000042           0.000116   \n",
       "2  5481420.0 -1.692860e-28  5.855070e-25   0.000056           0.000480   \n",
       "3  5481420.0 -2.753940e-14 -9.546790e-11   0.000079           0.001074   \n",
       "4  5481560.0 -2.881560e-13 -5.468510e-11   0.000176           0.002269   \n",
       "\n",
       "        W_Higgs  Higgs_mag2  Hamiltonian_GC  minHiggs2  new_bubble  E_kinetic  \\\n",
       "0  0.000000e+00    0.000000    0.000000e+00        0.0         495      0.000   \n",
       "1 -1.869910e-19    0.081601    2.947740e-28        0.0          85    691.938   \n",
       "2  1.503900e-17    0.094801    1.248110e-04        0.0          35   5038.640   \n",
       "3 -5.379970e-13    0.100996    3.414150e-04        0.0          15   9915.580   \n",
       "4  3.260850e-03    0.107528    4.646540e-04        0.0           7  12943.700   \n",
       "\n",
       "    E_grad      E_pot          E_U1     E_SU2  Unnamed: 15  \n",
       "0      0.0  5478290.0  0.000000e+00  0.000000          NaN  \n",
       "1  24624.9  5455950.0  2.298730e-07  0.000004          NaN  \n",
       "2  24749.0  5451630.0  1.293880e-06  0.000019          NaN  \n",
       "3  22259.4  5449240.0  4.360520e-06  0.000062          NaN  \n",
       "4  21646.1  5446970.0  1.306660e-05  0.000180          NaN  "
      ]
     },
     "execution_count": 27,
     "metadata": {},
     "output_type": "execute_result"
    }
   ],
   "source": [
    "df2 = pd.read_csv('D:/Bubble_Thermal/data_collect128_2.1/raw_data_exp/run.2412.txt')\n",
    "df2.head()"
   ]
  },
  {
   "cell_type": "code",
   "execution_count": 28,
   "metadata": {
    "ExecuteTime": {
     "end_time": "2018-05-24T00:11:15.268348Z",
     "start_time": "2018-05-24T00:11:15.192409Z"
    }
   },
   "outputs": [
    {
     "data": {
      "image/png": "[encoded data removed]",
      "text/plain": [
       "<matplotlib.figure.Figure at 0x237ee484048>"
      ]
     },
     "metadata": {},
     "output_type": "display_data"
    }
   ],
   "source": [
    "plt.plot(df2['EM_energy'])\n",
    "plt.plot(df['MagneticEnergy'])\n",
    "plt.show()"
   ]
  },
  {
   "cell_type": "code",
   "execution_count": 30,
   "metadata": {
    "ExecuteTime": {
     "end_time": "2018-05-24T00:11:46.678875Z",
     "start_time": "2018-05-24T00:11:46.673873Z"
    }
   },
   "outputs": [
    {
     "data": {
      "text/plain": [
       "(666, 651)"
      ]
     },
     "execution_count": 30,
     "metadata": {},
     "output_type": "execute_result"
    }
   ],
   "source": [
    "df['NewBubbleCount'].sum(), df2['new_bubble'].sum()"
   ]
  },
  {
   "cell_type": "code",
   "execution_count": 36,
   "metadata": {
    "ExecuteTime": {
     "end_time": "2018-05-24T00:14:50.255558Z",
     "start_time": "2018-05-24T00:14:50.249564Z"
    }
   },
   "outputs": [
    {
     "data": {
      "text/plain": [
       "TotalEnergy           4.852030e+06\n",
       "MagneticEnergy        6.777810e+04\n",
       "HiggsMagnitude2       3.310010e+01\n",
       "MinHiggsMagnitude2    4.533310e-02\n",
       "E_Kinetic             1.236800e+06\n",
       "E_Grad                1.392250e+06\n",
       "E_Pot                 5.213470e+05\n",
       "E_U1                  2.188270e+05\n",
       "E_SU2                 1.482810e+06\n",
       "NewBubbleCount        0.000000e+00\n",
       "Unnamed: 10                    NaN\n",
       "Name: 100, dtype: float64"
      ]
     },
     "execution_count": 36,
     "metadata": {},
     "output_type": "execute_result"
    }
   ],
   "source": [
    "df.iloc[100]"
   ]
  },
  {
   "cell_type": "code",
   "execution_count": null,
   "metadata": {
    "ExecuteTime": {
     "end_time": "2018-05-24T00:14:11.027821Z",
     "start_time": "2018-05-24T00:14:10.991858Z"
    }
   },
   "outputs": [],
   "source": [
    "\n"
   ]
  },
  {
   "cell_type": "code",
   "execution_count": null,
   "metadata": {},
   "outputs": [],
   "source": []
  }
 ],
 "metadata": {
  "kernelspec": {
   "display_name": "Python 3",
   "language": "python",
   "name": "python3"
  },
  "language_info": {
   "codemirror_mode": {
    "name": "ipython",
    "version": 3
   },
   "file_extension": ".py",
   "mimetype": "text/x-python",
   "name": "python",
   "nbconvert_exporter": "python",
   "pygments_lexer": "ipython3",
   "version": "3.6.3"
  }
 },
 "nbformat": 4,
 "nbformat_minor": 2
}
