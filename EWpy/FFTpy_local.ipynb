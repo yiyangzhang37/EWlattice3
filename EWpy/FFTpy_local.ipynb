{
 "cells": [
  {
   "cell_type": "code",
   "execution_count": 2,
   "metadata": {
    "ExecuteTime": {
     "end_time": "2018-06-10T17:32:50.619142Z",
     "start_time": "2018-06-10T17:32:48.087610Z"
    },
    "deletable": false,
    "editable": false
   },
   "outputs": [],
   "source": [
    "import numpy as np\n",
    "import pandas as pd\n",
    "import os\n",
    "import matplotlib.pyplot as plt\n",
    "from matplotlib.colors import LogNorm\n",
    "import h5py\n",
    "import EWdata"
   ]
  },
  {
   "cell_type": "markdown",
   "metadata": {},
   "source": [
    "### peak of the spectrum"
   ]
  },
  {
   "cell_type": "code",
   "execution_count": 25,
   "metadata": {
    "ExecuteTime": {
     "end_time": "2018-06-10T17:54:19.803324Z",
     "start_time": "2018-06-10T17:54:19.774354Z"
    }
   },
   "outputs": [],
   "source": [
    "root_path = 'D:/Bubble_Thermal/EWlattice3_data'\n",
    "c1 = EWdata.constants(eta = 1.0, dx = 0.25, nSize = 256)\n",
    "BINS = 120\n",
    "\n",
    "ids = range(16, 50, 50)\n",
    "\n",
    "time = []\n",
    "peak_k = []\n",
    "ave_k = [] # average k value computed form radial spectrum\n",
    "mean_k = [] # average k value computed from original Cartesian k space values.\n",
    "for i in ids:\n",
    "    file_path = os.path.join(root_path, 'non_random_bubbles', 'spec_data', 'nr_1_bfield_'+str(i)+'.npy')\n",
    "    arr = np.load(file_path)\n",
    "    if arr[0,-1] == arr[1,-1]:\n",
    "        kmean = arr[0,-1]\n",
    "        vals_k = arr[0, :-1]\n",
    "        mag = arr[1, :-1]\n",
    "    else:\n",
    "        vals_k = arr[0]\n",
    "        mag = arr[1]\n",
    "    time.append(i)\n",
    "    peak_k.append( vals_k[np.argmax(mag)] )\n",
    "    ave_k.append( np.average(vals_k, weights = mag) )\n",
    "    mean_k.append( kmean )\n",
    "time = np.array(time)\n",
    "peak_k = np.array(peak_k)\n",
    "ave_k = np.array(ave_k)\n",
    "mean_k = np.array(kmean)"
   ]
  },
  {
   "cell_type": "code",
   "execution_count": null,
   "metadata": {
    "ExecuteTime": {
     "end_time": "2018-06-10T17:54:34.139324Z",
     "start_time": "2018-06-10T17:54:34.134312Z"
    }
   },
   "outputs": [],
   "source": []
  },
  {
   "cell_type": "code",
   "execution_count": 16,
   "metadata": {
    "ExecuteTime": {
     "end_time": "2018-06-10T17:38:43.706976Z",
     "start_time": "2018-06-10T17:38:43.398203Z"
    }
   },
   "outputs": [
    {
     "data": {
      "image/png": "[encoded data removed]",
      "text/plain": [
       "<matplotlib.figure.Figure at 0x1e3a47067b8>"
      ]
     },
     "metadata": {},
     "output_type": "display_data"
    }
   ],
   "source": [
    "plt.plot(time*c1.dt()*c1.mH(), peak_k, label = 'peak')\n",
    "plt.plot(time*c1.dt()*c1.mH(), ave_k, label = 'mean')\n",
    "plt.xlabel('$m_Ht$', fontsize = 16)\n",
    "plt.ylabel('$k\\Delta x/2\\pi$', fontsize = 16)\n",
    "plt.legend()\n",
    "plt.show()"
   ]
  },
  {
   "cell_type": "code",
   "execution_count": null,
   "metadata": {},
   "outputs": [],
   "source": []
  }
 ],
 "metadata": {
  "kernelspec": {
   "display_name": "Python 3",
   "language": "python",
   "name": "python3"
  },
  "language_info": {
   "codemirror_mode": {
    "name": "ipython",
    "version": 3
   },
   "file_extension": ".py",
   "mimetype": "text/x-python",
   "name": "python",
   "nbconvert_exporter": "python",
   "pygments_lexer": "ipython3",
   "version": "3.6.3"
  }
 },
 "nbformat": 4,
 "nbformat_minor": 2
}
