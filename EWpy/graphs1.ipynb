{
 "cells": [
  {
   "cell_type": "markdown",
   "metadata": {},
   "source": [
    "### One Bubble"
   ]
  },
  {
   "cell_type": "code",
   "execution_count": 2,
   "metadata": {
    "ExecuteTime": {
     "end_time": "2018-05-28T16:34:17.484396Z",
     "start_time": "2018-05-28T16:34:13.443326Z"
    }
   },
   "outputs": [],
   "source": [
    "import numpy as np\n",
    "import pandas as pd\n",
    "import os\n",
    "import matplotlib.pyplot as plt\n",
    "from matplotlib.colors import LogNorm\n",
    "import seaborn as sns\n",
    "import h5py\n",
    "import EWdata"
   ]
  },
  {
   "cell_type": "code",
   "execution_count": 14,
   "metadata": {
    "ExecuteTime": {
     "end_time": "2018-05-28T16:42:43.630409Z",
     "start_time": "2018-05-28T16:42:43.621416Z"
    }
   },
   "outputs": [
    {
     "name": "stdout",
     "output_type": "stream",
     "text": [
      "{'col_name_0': b'TotalEnergy', 'col_name_1': b'MagneticEnergy', 'col_name_2': b'HiggsMagnitude2'}\n"
     ]
    }
   ],
   "source": [
    "root_path = 'D:/Bubble_Thermal/EWlattice3_data'\n",
    "\n",
    "file_path = os.path.join(root_path, 'one_bubble', 'raw_data_1', 'one_bubble_den_1.h5')\n",
    "h5file = EWdata.H5Reader(file_path)\n",
    "dset = h5file.dataset_\n",
    "dshape = h5file.shape_\n",
    "\n",
    "c1 = EWdata.constants(eta = 6.0, dx = 0.125, nSize = 128)\n",
    "\n",
    "print(h5file.attrs_)"
   ]
  },
  {
   "cell_type": "code",
   "execution_count": 15,
   "metadata": {
    "ExecuteTime": {
     "end_time": "2018-05-28T16:42:45.781468Z",
     "start_time": "2018-05-28T16:42:45.622662Z"
    }
   },
   "outputs": [
    {
     "data": {
      "image/png": "[encoded data removed]",
      "text/plain": [
       "<matplotlib.figure.Figure at 0x1c280536e80>"
      ]
     },
     "metadata": {},
     "output_type": "display_data"
    }
   ],
   "source": [
    "# Higgs magnitude squared\n",
    "data_ = dset[:,:,dshape[2]/2,2] / c1.eta()**2 ### in units of eta2\n",
    "plt.imshow(data_, interpolation = 'bilinear', \n",
    "           vmin = 0, vmax = 2,\n",
    "           cmap = 'bwr')\n",
    "plt.colorbar()\n",
    "plt.xlabel('z', fontsize = 14)\n",
    "plt.ylabel('y', fontsize = 14)\n",
    "plt.show()"
   ]
  },
  {
   "cell_type": "markdown",
   "metadata": {},
   "source": [
    "### Example of random nucleation"
   ]
  },
  {
   "cell_type": "code",
   "execution_count": null,
   "metadata": {},
   "outputs": [],
   "source": []
  },
  {
   "cell_type": "markdown",
   "metadata": {},
   "source": [
    "### Two Bubbles"
   ]
  },
  {
   "cell_type": "code",
   "execution_count": null,
   "metadata": {},
   "outputs": [],
   "source": [
    "root_path = 'D:/Bubble_Thermal/EWlattice3_data'\n",
    "\n",
    "file_path = os.path.join(root_path, 'two_bubbles', 'raw_data_1', 'one_bubble_den_1.h5')\n",
    "h5file = EWdata.H5Reader(file_path)\n",
    "dset = h5file.dataset_\n",
    "dshape = h5file.shape_\n",
    "\n",
    "c1 = EWdata.constants(eta = 6.0, dx = 0.125, nSize = 128)"
   ]
  },
  {
   "cell_type": "code",
   "execution_count": null,
   "metadata": {},
   "outputs": [],
   "source": [
    "# Higgs magnitude squared\n",
    "data_ = dset[:,:,dshape[2]/2,2] / c1.eta()**2 ### in units of eta2\n",
    "plt.imshow(data_, interpolation = 'bilinear', \n",
    "           vmin = 0, vmax = 2,\n",
    "           cmap = 'bwr')\n",
    "plt.colorbar()\n",
    "plt.xlabel('z', fontsize = 14)\n",
    "plt.ylabel('y', fontsize = 14)\n",
    "plt.show()"
   ]
  },
  {
   "cell_type": "code",
   "execution_count": null,
   "metadata": {},
   "outputs": [],
   "source": [
    "# magnetic energy density\n",
    "data_ = dset[:,:,dshape[2]/2,1] / c1.mH()**4 ### norm to units mH^4\n",
    "plt.imshow(data_, interpolation = 'bilinear', vmax = 0.03)\n",
    "plt.colorbar()\n",
    "plt.xlabel('z', fontsize = 14)\n",
    "plt.ylabel('y', fontsize = 14)\n",
    "plt.show()"
   ]
  },
  {
   "cell_type": "markdown",
   "metadata": {},
   "source": [
    "### Non-random bubbles"
   ]
  },
  {
   "cell_type": "code",
   "execution_count": null,
   "metadata": {},
   "outputs": [],
   "source": []
  }
 ],
 "metadata": {
  "kernelspec": {
   "display_name": "Python 3",
   "language": "python",
   "name": "python3"
  },
  "language_info": {
   "codemirror_mode": {
    "name": "ipython",
    "version": 3
   },
   "file_extension": ".py",
   "mimetype": "text/x-python",
   "name": "python",
   "nbconvert_exporter": "python",
   "pygments_lexer": "ipython3",
   "version": "3.6.3"
  }
 },
 "nbformat": 4,
 "nbformat_minor": 2
}
